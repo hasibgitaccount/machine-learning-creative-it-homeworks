{
 "cells": [
  {
   "cell_type": "code",
   "execution_count": null,
   "metadata": {},
   "outputs": [],
   "source": [
    "1.⁠ ⁠find the sum of all the elements in list\n",
    "2.⁠ ⁠find all the even numbers in the list\n",
    "3.⁠ ⁠find the smallest element in the list\n",
    "4.⁠ ⁠find the largest element in the list\n",
    "5.⁠ ⁠add the even numbers in the list"
   ]
  },
  {
   "cell_type": "code",
   "execution_count": 34,
   "metadata": {},
   "outputs": [
    {
     "name": "stdout",
     "output_type": "stream",
     "text": [
      "[2, 4, 6]\n"
     ]
    }
   ],
   "source": [
    "list1 = [2,3,4,5,6]\n",
    "for i  in list1:\n",
    "    if i%2==0:\n",
    "        print(i,end = ' ')"
   ]
  },
  {
   "cell_type": "code",
   "execution_count": null,
   "metadata": {},
   "outputs": [],
   "source": [
    "list1 = [2,3,4,5,6]\n",
    "list2 = []\n",
    "for i  in list1:\n",
    "    if i%2==0:\n",
    "        list2.append(i)\n",
    "print(list2)"
   ]
  },
  {
   "cell_type": "code",
   "execution_count": 32,
   "metadata": {},
   "outputs": [
    {
     "name": "stdout",
     "output_type": "stream",
     "text": [
      "[2]\n",
      "[2, 4]\n",
      "[2, 4, 6]\n"
     ]
    },
    {
     "data": {
      "text/plain": [
       "12"
      ]
     },
     "execution_count": 32,
     "metadata": {},
     "output_type": "execute_result"
    }
   ],
   "source": [
    "list1 = [2,3,4,5,6]\n",
    "sum_add = []\n",
    "for i  in list1:\n",
    "    if i%2==0:\n",
    "        sum_add = sum_add+[i]\n",
    "        print(sum_add)\n",
    "sum(sum_add)"
   ]
  },
  {
   "cell_type": "code",
   "execution_count": 5,
   "metadata": {},
   "outputs": [
    {
     "name": "stdout",
     "output_type": "stream",
     "text": [
      "20\n"
     ]
    }
   ],
   "source": [
    "list1 = [2,3,4,5,6]\n",
    "\n",
    "sum1 = 0\n",
    "for i in list1:\n",
    "    sum1 = sum1 + i # sum1+=i\n",
    "print(sum1)"
   ]
  },
  {
   "cell_type": "code",
   "execution_count": null,
   "metadata": {},
   "outputs": [],
   "source": []
  },
  {
   "cell_type": "code",
   "execution_count": 22,
   "metadata": {},
   "outputs": [
    {
     "name": "stdout",
     "output_type": "stream",
     "text": [
      "min 2\n",
      "min 1\n",
      "min 0\n",
      "min -10\n",
      "-10\n"
     ]
    }
   ],
   "source": [
    "list1 = [2,3,4,5,6,1,0,-10,1]\n",
    "\n",
    "min = list1[0]\n",
    "for i in list1:\n",
    "    # print(str(min)+' < '+str(i))\n",
    "    if min<i:\n",
    "        pass\n",
    "    else:\n",
    "        min = i\n",
    "        print('min '+str(i))\n",
    "    # print()\n",
    "\n",
    "print(min)"
   ]
  },
  {
   "cell_type": "code",
   "execution_count": 24,
   "metadata": {},
   "outputs": [
    {
     "name": "stdout",
     "output_type": "stream",
     "text": [
      "max 2\n",
      "max 3\n",
      "max 4\n",
      "max 5\n",
      "max 6\n",
      "6\n"
     ]
    }
   ],
   "source": [
    "list1 = [2,3,4,5,6,1,0,-10,1]\n",
    "\n",
    "min = list1[0]\n",
    "for i in list1:\n",
    "    # print(str(min)+' < '+str(i))\n",
    "    if min>i:\n",
    "        pass\n",
    "    else:\n",
    "        min = i\n",
    "        print('max '+str(i))\n",
    "    # print()\n",
    "\n",
    "print(min)"
   ]
  },
  {
   "cell_type": "code",
   "execution_count": 36,
   "metadata": {},
   "outputs": [
    {
     "name": "stdout",
     "output_type": "stream",
     "text": [
      "main list = [1, 2, 3, 4, 5, 6, 7, 8, 9]\n",
      "\n",
      "sum of list = 45\n",
      "Even number's list = [2, 4, 6, 8]\n",
      "Smallest element in the list = 1\n",
      "Largest element in the list = 9\n",
      "Sum of even number's if the list = 20\n"
     ]
    }
   ],
   "source": [
    "list = [1,2,3,4,5,6,7,8,9]\n",
    "# ----------------------------\n",
    "print(f\"main list = {list}\")\n",
    "# ----------------------------\n",
    "sum=0\n",
    "for i in range(len(list)):\n",
    "    sum = sum + list[i]\n",
    "print(f'\\nsum of list = {sum}')\n",
    "# -----------------------------\n",
    "list_even_number = []\n",
    "for i in range(len(list)):\n",
    "    if list[i] % 2 == 0:\n",
    "        list_even_number.append(list[i])\n",
    "print(f\"Even number's list = {list_even_number}\")\n",
    "# -----------------------------------------------\n",
    "smallest_element = list[0]\n",
    "for i in range(len(list)):\n",
    "    if list[i] < list[0]:\n",
    "        smallest_element = list[i]\n",
    "print(f\"Smallest element in the list = {smallest_element}\")\n",
    "# ----------------------------------------------------------\n",
    "largest_element = list[0]\n",
    "for i in range(len(list)):\n",
    "    if list[i] > list[0]:\n",
    "        largest_element = list[i]\n",
    "print(f\"Largest element in the list = {largest_element}\")\n",
    "# ------------------------------------------------------------\n",
    "sum_even = 0\n",
    "for i in range(len(list)):\n",
    "    if list[i] % 2 == 0:\n",
    "        sum_even = sum_even + list[i]\n",
    "print(f\"Sum of even number's if the list = {sum_even}\")\n"
   ]
  },
  {
   "cell_type": "code",
   "execution_count": null,
   "metadata": {},
   "outputs": [],
   "source": [
    "# prime number\n",
    "\n",
    "4 -> 1,2,4\n",
    "5 -> 1,5\n",
    "\n",
    "n -> 1,n\n",
    "\n",
    "non prime -> x1\n",
    "prime ->\n"
   ]
  },
  {
   "cell_type": "code",
   "execution_count": 66,
   "metadata": {},
   "outputs": [
    {
     "name": "stdout",
     "output_type": "stream",
     "text": [
      "prime\n"
     ]
    }
   ],
   "source": [
    "n = 11\n",
    "\n",
    "assume = 'prime'\n",
    "for i in range(2,n):\n",
    "    if n%i ==0:\n",
    "        assume = 'non prime'\n",
    "        break\n",
    "    \n",
    "print(assume)\n",
    "        "
   ]
  },
  {
   "cell_type": "code",
   "execution_count": null,
   "metadata": {},
   "outputs": [],
   "source": [
    "list1 = [2,3,4,5,6]\n",
    "list2 = []\n",
    "for i  in list1:\n",
    "    if i%2==0:\n",
    "        list2.append(i)\n",
    "print(list2)"
   ]
  },
  {
   "cell_type": "code",
   "execution_count": 69,
   "metadata": {},
   "outputs": [
    {
     "name": "stdout",
     "output_type": "stream",
     "text": [
      "[2, 4, 6, 8, 10, 12, 14, 16, 18, 20, 22, 24, 26, 28, 30, 32, 34, 36, 38, 40, 42, 44, 46, 48, 50, 52, 54, 56, 58, 60, 62, 64, 66, 68, 70, 72, 74, 76, 78, 80, 82, 84, 86, 88, 90, 92, 94, 96, 98, 100]\n"
     ]
    }
   ],
   "source": [
    "# find all the even number in range 1 to 100\n",
    "\n",
    "list2 = []\n",
    "for i  in range(1,101):\n",
    "    if i%2==0:\n",
    "        list2.append(i)\n",
    "print(list2)"
   ]
  },
  {
   "cell_type": "code",
   "execution_count": 76,
   "metadata": {},
   "outputs": [
    {
     "name": "stdout",
     "output_type": "stream",
     "text": [
      "[2, 4, 6, 8, 10, 12, 14, 16, 18, 20]\n"
     ]
    }
   ],
   "source": [
    "# find first 10 even number \n",
    "\n",
    "counter  = 0\n",
    "list2 = []\n",
    "for i  in range(1,100000000):\n",
    "    if i%2==0:\n",
    "        counter = counter + 1\n",
    "        if counter>10:\n",
    "            break\n",
    "        else:\n",
    "            list2.append(i)\n",
    "            # print(counter,list2)\n",
    "\n",
    "print(list2)"
   ]
  },
  {
   "cell_type": "code",
   "execution_count": 133,
   "metadata": {},
   "outputs": [
    {
     "name": "stdout",
     "output_type": "stream",
     "text": [
      "non prime\n"
     ]
    }
   ],
   "source": [
    "n = 11\n",
    "\n",
    "assume = 'prime'\n",
    "for i in range(2,n):\n",
    "    if n%i ==0:\n",
    "        assume = 'non prime'\n",
    "        break\n",
    "    \n",
    "print(assume)\n",
    "        "
   ]
  },
  {
   "cell_type": "code",
   "execution_count": 141,
   "metadata": {},
   "outputs": [
    {
     "name": "stdout",
     "output_type": "stream",
     "text": [
      "non prime\n"
     ]
    }
   ],
   "source": [
    "\n",
    "def check_prime(n):\n",
    "    assume = 'prime'\n",
    "    for i in range(2,n):\n",
    "        if n%i ==0:\n",
    "            assume = 'non prime'\n",
    "            break\n",
    "        \n",
    "    return(assume)\n",
    "\n",
    "\n",
    "result = check_prime(6)\n",
    "print(result)"
   ]
  },
  {
   "cell_type": "code",
   "execution_count": 140,
   "metadata": {},
   "outputs": [
    {
     "name": "stdout",
     "output_type": "stream",
     "text": [
      "2\n",
      "3\n",
      "5\n",
      "7\n",
      "11\n",
      "13\n",
      "17\n",
      "19\n",
      "23\n",
      "29\n"
     ]
    }
   ],
   "source": [
    "# find first 10 prime number\n",
    "\n",
    "counter = 0\n",
    "for i in range(2,10000000):\n",
    "    result = check_prime(i)\n",
    "    if result =='prime':\n",
    "        counter = counter +1\n",
    "        if counter<=10:\n",
    "            print(i)\n",
    "        else:\n",
    "            break\n",
    "\n",
    "\n"
   ]
  },
  {
   "cell_type": "code",
   "execution_count": 77,
   "metadata": {},
   "outputs": [
    {
     "name": "stdout",
     "output_type": "stream",
     "text": [
      "15\n"
     ]
    }
   ],
   "source": [
    "a = 5\n",
    "b = 10\n",
    "c = a+b\n",
    "print(c)"
   ]
  },
  {
   "cell_type": "code",
   "execution_count": 127,
   "metadata": {},
   "outputs": [],
   "source": [
    "def summation(a = 10 , b = 100):\n",
    "    c = a+b\n",
    "    print(c) #show\n",
    "    return(c) # store"
   ]
  },
  {
   "cell_type": "code",
   "execution_count": 128,
   "metadata": {},
   "outputs": [
    {
     "name": "stdout",
     "output_type": "stream",
     "text": [
      "400\n"
     ]
    }
   ],
   "source": [
    "result = summation(200,200)"
   ]
  },
  {
   "cell_type": "code",
   "execution_count": 129,
   "metadata": {},
   "outputs": [
    {
     "name": "stdout",
     "output_type": "stream",
     "text": [
      "400\n"
     ]
    }
   ],
   "source": [
    "print(result)"
   ]
  },
  {
   "cell_type": "code",
   "execution_count": null,
   "metadata": {},
   "outputs": [],
   "source": []
  }
 ],
 "metadata": {
  "kernelspec": {
   "display_name": "Python 3",
   "language": "python",
   "name": "python3"
  },
  "language_info": {
   "codemirror_mode": {
    "name": "ipython",
    "version": 3
   },
   "file_extension": ".py",
   "mimetype": "text/x-python",
   "name": "python",
   "nbconvert_exporter": "python",
   "pygments_lexer": "ipython3",
   "version": "3.9.6"
  }
 },
 "nbformat": 4,
 "nbformat_minor": 2
}
