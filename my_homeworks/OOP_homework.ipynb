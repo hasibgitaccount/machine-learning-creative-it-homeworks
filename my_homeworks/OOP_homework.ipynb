{
 "cells": [
  {
   "cell_type": "markdown",
   "id": "4614497e",
   "metadata": {},
   "source": [
    "1. factor measuring."
   ]
  },
  {
   "cell_type": "code",
   "execution_count": 3,
   "id": "2df060c0",
   "metadata": {},
   "outputs": [
    {
     "name": "stdout",
     "output_type": "stream",
     "text": [
      "120\n"
     ]
    }
   ],
   "source": [
    "class factor_making:\n",
    "\n",
    "    def __init__(self, factor_number):\n",
    "        self.factor_number = factor_number\n",
    "\n",
    "    def factor(self):\n",
    "        \n",
    "        if self.factor_number < 0:\n",
    "            return 'error, negative number is not valid'\n",
    "        \n",
    "        elif self.factor_number == 0 or self.factor_number ==1 :\n",
    "            return 1\n",
    "        \n",
    "        else:\n",
    "            result = 1\n",
    "            for i in range(2, self.factor_number+1):\n",
    "                result *= i\n",
    "\n",
    "            return result\n",
    "        \n",
    "f = factor_making(5)\n",
    "print(f.factor())"
   ]
  },
  {
   "cell_type": "markdown",
   "id": "5722bc71",
   "metadata": {},
   "source": [
    "2. Create a function named ‘check_string’, the function should accept a string data from the\n",
    "user and the function should check if the user input contains the letter ‘s’ in it. If it contains\n",
    "the letter ‘s’ then print- ‘The string is containing the letter ‘s’’, if not then print- ‘The string\n",
    "doesn’t contain the letter ‘s’’."
   ]
  },
  {
   "cell_type": "code",
   "execution_count": 5,
   "id": "1d66f520",
   "metadata": {},
   "outputs": [
    {
     "name": "stdout",
     "output_type": "stream",
     "text": [
      "s is in the string input\n"
     ]
    }
   ],
   "source": [
    "class String_checking:\n",
    "\n",
    "    def __init__(self, string):\n",
    "        self.string = string\n",
    "\n",
    "    \n",
    "    def check_string(self):\n",
    "        if 's' in self.string.lower():\n",
    "            print('s is in the string input')\n",
    "        \n",
    "        else:\n",
    "            print('s is not in the string input')\n",
    "\n",
    "\n",
    "user_input = input(\"Enter a string: \")\n",
    "checker = String_checking(user_input)\n",
    "checker.check_string()"
   ]
  },
  {
   "cell_type": "markdown",
   "id": "c2a0a24f",
   "metadata": {},
   "source": [
    "3. Create a class named ‘student’ and inside the class, create a function named ‘fun1’- this\n",
    "method should accept the user defined input and return that value.\n",
    "a. Create another method named- message() and that method should print the user\n",
    "defined input that we have defined in ‘fun1’.\n"
   ]
  },
  {
   "cell_type": "code",
   "execution_count": 6,
   "id": "76fdf0bd",
   "metadata": {},
   "outputs": [
    {
     "name": "stdout",
     "output_type": "stream",
     "text": [
      "narinda\n"
     ]
    }
   ],
   "source": [
    "class student:\n",
    "\n",
    "    def __init__(self):\n",
    "        self.input_user = None\n",
    "\n",
    "    \n",
    "    def fun1(self):\n",
    "        self.input_user = input('Enter something: ')\n",
    "        return self.input_user\n",
    "    \n",
    "\n",
    "    def message(self):\n",
    "        print(self.input_user)\n",
    "\n",
    "\n",
    "\n",
    "s = student()\n",
    "s.fun1()        # This asks user for input and stores it\n",
    "s.message()"
   ]
  },
  {
   "cell_type": "markdown",
   "id": "257518e4",
   "metadata": {},
   "source": [
    "4. Create a lambda function that should double or multiply the number (that we will be passing\n",
    "in the lambda function) by 2. Store the lambda function in a variable named ‘double_num’.\n"
   ]
  },
  {
   "cell_type": "code",
   "execution_count": 7,
   "id": "35f0b064",
   "metadata": {},
   "outputs": [
    {
     "name": "stdout",
     "output_type": "stream",
     "text": [
      "12\n"
     ]
    }
   ],
   "source": [
    "class Double_Lambda:\n",
    "\n",
    "    def __init__(self, number):\n",
    "        self.number = number\n",
    "\n",
    "    \n",
    "    def double_lambda(self):\n",
    "        double_number  = lambda x: x*2\n",
    "        return double_number(self.number)\n",
    "    \n",
    "\n",
    "d = Double_Lambda(6)\n",
    "print(d.double_lambda())"
   ]
  },
  {
   "cell_type": "markdown",
   "id": "94a2d593",
   "metadata": {},
   "source": [
    "5. Take the user input string and check whether that string is palindrome or not.\n"
   ]
  },
  {
   "cell_type": "code",
   "execution_count": 9,
   "id": "60cc0a48",
   "metadata": {},
   "outputs": [
    {
     "name": "stdout",
     "output_type": "stream",
     "text": [
      "it's not a palindrome\n"
     ]
    }
   ],
   "source": [
    "class Palindrome:\n",
    "\n",
    "    def __init__(self):\n",
    "        self.input = None\n",
    "\n",
    "    \n",
    "    def checking(self):\n",
    "        self.input = input('enter something: ').lower().replace(' ','')\n",
    "\n",
    "        if self.input == self.input[::-1]:\n",
    "            print(\"it's a palindrome\")\n",
    "        \n",
    "        else:\n",
    "            print(\"it's not a palindrome\")\n",
    "\n",
    "\n",
    "p = Palindrome()   # Create an object of the class\n",
    "p.checking()"
   ]
  },
  {
   "cell_type": "markdown",
   "id": "70eb259e",
   "metadata": {},
   "source": [
    "6. Create a class named ‘Super’ and inside that class define a user-defined function named\n",
    "fun1.\n",
    "a. Inside the ‘fun1’ function, pass the message “This is function 1 in the Super class.”\n",
    "in the print statement.\n"
   ]
  },
  {
   "cell_type": "code",
   "execution_count": 10,
   "id": "d5c1bcfc",
   "metadata": {},
   "outputs": [
    {
     "name": "stdout",
     "output_type": "stream",
     "text": [
      "this is function 1 in super class\n"
     ]
    }
   ],
   "source": [
    "class Super:\n",
    "\n",
    "    def __init__(self):\n",
    "        pass\n",
    "\n",
    "    def fun1(self):\n",
    "        print('this is function 1 in super class')\n",
    "\n",
    "\n",
    "obj = Super()\n",
    "obj.fun1()"
   ]
  },
  {
   "cell_type": "markdown",
   "id": "3636139c",
   "metadata": {},
   "source": [
    "7. Create another class named ‘Modified_Super’ and inherit this class from the Super class.\n",
    "a. Inside the Modified_Super class, create a function named ‘fun1’ and pass the\n",
    "following message inside the print statement: ‘This is function 1 in the Modified\n",
    "Super class.’\n",
    "b. Create another user-defined function named ‘fun2’ and pass the message: ‘This is\n",
    "the 2nd function from the Modified Super class’ in the print statement.\n",
    "c. After that, now create an object for the Modified_Super class and call the fun1().\n"
   ]
  },
  {
   "cell_type": "code",
   "execution_count": 13,
   "id": "eec83748",
   "metadata": {},
   "outputs": [
    {
     "name": "stdout",
     "output_type": "stream",
     "text": [
      "This is function 1 in the Modified Super class.\n"
     ]
    }
   ],
   "source": [
    "class Super:\n",
    "\n",
    "    def __init__(self):\n",
    "        pass\n",
    "\n",
    "    def fun1(self):\n",
    "        print('this is function 1 in super class')\n",
    "\n",
    "\n",
    "class Modified_Super(Super):\n",
    "\n",
    "    def fun1(self):\n",
    "        print('This is function 1 in the Modified Super class.')\n",
    "\n",
    "\n",
    "    def fun2(self):\n",
    "        print('This is the 2nd function from the Modified Super class')\n",
    "\n",
    "\n",
    "m = Modified_Super()\n",
    "m.fun1()"
   ]
  },
  {
   "cell_type": "markdown",
   "id": "d11741ae",
   "metadata": {},
   "source": [
    "8. Create 2 methods named ‘Hello’. In the 1st Hello method, pass only one argument and pass\n",
    "this message: ‘This function only has 1 argument’. And in the 2nd Hello method, pass\n",
    "two arguments and pass this message: ‘This function has 2 arguments’.\n",
    "a. Try to call both the methods and analyze the output of both the methods"
   ]
  },
  {
   "cell_type": "code",
   "execution_count": null,
   "id": "c06576d8",
   "metadata": {},
   "outputs": [
    {
     "name": "stdout",
     "output_type": "stream",
     "text": [
      "This function only has 1 argument\n",
      "This function has 2 arguments\n"
     ]
    }
   ],
   "source": [
    "class Stupid:\n",
    "\n",
    "    def __init__(self):\n",
    "        pass\n",
    " \n",
    "\n",
    "    def Hello(self, arg2 = None):\n",
    "        if arg2 is None:\n",
    "            print('This function only has 1 argument')\n",
    "        else:\n",
    "            print('This function has 2 arguments')\n",
    "\n",
    "\n",
    "\n",
    "obj = Stupid()\n",
    "obj.Hello()           # Output: This function only has 1 argument\n",
    "obj.Hello('another')"
   ]
  },
  {
   "cell_type": "markdown",
   "id": "c795a743",
   "metadata": {},
   "source": [
    "9. Create a method named ‘Sum’ that can accept multiple user inputs. Now add those userdefined input values using for loop and the function should return the addition of the numbers."
   ]
  },
  {
   "cell_type": "code",
   "execution_count": 17,
   "id": "097dfcf1",
   "metadata": {},
   "outputs": [
    {
     "name": "stdout",
     "output_type": "stream",
     "text": [
      "Sum is: 30\n"
     ]
    }
   ],
   "source": [
    "class Easy:\n",
    "\n",
    "    def __init__(self):\n",
    "        pass\n",
    "\n",
    "\n",
    "    def calculate_sum(self):\n",
    "        user_input = input('Enter the numbers: ').split()\n",
    "\n",
    "        total = 0\n",
    "        for i in user_input:\n",
    "            total += int(i)\n",
    "\n",
    "        return total\n",
    "    \n",
    "\n",
    "calc = Easy()\n",
    "result = calc.calculate_sum()\n",
    "print(\"Sum is:\", result)"
   ]
  },
  {
   "cell_type": "markdown",
   "id": "81f8cc7f",
   "metadata": {},
   "source": [
    "10. Create a class named ‘Encapsulation’:\n",
    "a. Inside the class, first create a constructor. Inside the constructor, initialize\n",
    "originalValue variable as 10.\n",
    "b. After creating the constructor, define a function named ‘Value’ and this function\n",
    "should return the variable that we have initialized in the constructor.\n",
    "c. Now create 2nd function named setValue, and pass an argument named\n",
    "‘newValue’. The task of this function will be to replace the value of the\n",
    "originalValue variable by the value of the newValue variable."
   ]
  },
  {
   "cell_type": "code",
   "execution_count": 20,
   "id": "9fbdb47c",
   "metadata": {},
   "outputs": [
    {
     "name": "stdout",
     "output_type": "stream",
     "text": [
      "10\n",
      "50\n"
     ]
    }
   ],
   "source": [
    "class Encapsulation:\n",
    "\n",
    "    def __init__(self):\n",
    "        self.original_value = 10\n",
    "\n",
    "    \n",
    "    def Value(self, x2 = None):\n",
    "        if x2 is None:\n",
    "            return self.original_value\n",
    "    \n",
    "\n",
    "    def set_value(self, new_value):\n",
    "            self.original_value = new_value\n",
    "\n",
    "\n",
    "obj = Encapsulation()\n",
    "print(obj.Value())  # Output: 10\n",
    "\n",
    "obj.set_value(50)\n",
    "print(obj.Value())\n"
   ]
  }
 ],
 "metadata": {
  "kernelspec": {
   "display_name": "venv",
   "language": "python",
   "name": "python3"
  },
  "language_info": {
   "codemirror_mode": {
    "name": "ipython",
    "version": 3
   },
   "file_extension": ".py",
   "mimetype": "text/x-python",
   "name": "python",
   "nbconvert_exporter": "python",
   "pygments_lexer": "ipython3",
   "version": "3.12.0"
  }
 },
 "nbformat": 4,
 "nbformat_minor": 5
}
