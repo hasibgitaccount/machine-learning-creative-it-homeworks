{
 "cells": [
  {
   "cell_type": "markdown",
   "id": "95c685ef",
   "metadata": {},
   "source": [
    "1. 1 - dimensional array"
   ]
  },
  {
   "cell_type": "code",
   "execution_count": 1,
   "id": "48d40e89",
   "metadata": {},
   "outputs": [
    {
     "name": "stdout",
     "output_type": "stream",
     "text": [
      "[1 2 3]\n"
     ]
    }
   ],
   "source": [
    "import numpy as np\n",
    "\n",
    "a = np.array([1,2,3])\n",
    "print(a)"
   ]
  },
  {
   "cell_type": "markdown",
   "id": "c5c7776a",
   "metadata": {},
   "source": [
    "2. 2 - dimensional array. "
   ]
  },
  {
   "cell_type": "code",
   "execution_count": 2,
   "id": "6d72455c",
   "metadata": {},
   "outputs": [
    {
     "name": "stdout",
     "output_type": "stream",
     "text": [
      "[[1 2 3]\n",
      " [4 5 6]]\n"
     ]
    }
   ],
   "source": [
    "import numpy as np\n",
    "\n",
    "b = np.array([[1,2,3], [4,5,6]])\n",
    "print(b)"
   ]
  },
  {
   "cell_type": "markdown",
   "id": "852ed312",
   "metadata": {},
   "source": [
    "3. creating rows and columns with zeros."
   ]
  },
  {
   "cell_type": "code",
   "execution_count": 3,
   "id": "61a7932b",
   "metadata": {},
   "outputs": [
    {
     "data": {
      "text/plain": [
       "array([[0., 0., 0., 0.],\n",
       "       [0., 0., 0., 0.],\n",
       "       [0., 0., 0., 0.]])"
      ]
     },
     "execution_count": 3,
     "metadata": {},
     "output_type": "execute_result"
    }
   ],
   "source": [
    "import numpy as np\n",
    "\n",
    "np.zeros((3,4))"
   ]
  },
  {
   "cell_type": "markdown",
   "id": "f6f7c1d1",
   "metadata": {},
   "source": [
    "4. Intervals."
   ]
  },
  {
   "cell_type": "code",
   "execution_count": 4,
   "id": "401d6cc9",
   "metadata": {},
   "outputs": [
    {
     "data": {
      "text/plain": [
       "array([1, 3, 5, 7, 9])"
      ]
     },
     "execution_count": 4,
     "metadata": {},
     "output_type": "execute_result"
    }
   ],
   "source": [
    "import numpy as np\n",
    "\n",
    "np.arange(1,10,2)"
   ]
  },
  {
   "cell_type": "markdown",
   "id": "8cfe5a13",
   "metadata": {},
   "source": [
    "5. certain amount of numbers accordingly."
   ]
  },
  {
   "cell_type": "code",
   "execution_count": 5,
   "id": "14d41c3f",
   "metadata": {},
   "outputs": [
    {
     "data": {
      "text/plain": [
       "array([ 5.        ,  5.55555556,  6.11111111,  6.66666667,  7.22222222,\n",
       "        7.77777778,  8.33333333,  8.88888889,  9.44444444, 10.        ])"
      ]
     },
     "execution_count": 5,
     "metadata": {},
     "output_type": "execute_result"
    }
   ],
   "source": [
    "import numpy as np\n",
    "\n",
    "np.linspace(5,10,10)"
   ]
  }
 ],
 "metadata": {
  "kernelspec": {
   "display_name": "venv",
   "language": "python",
   "name": "python3"
  },
  "language_info": {
   "codemirror_mode": {
    "name": "ipython",
    "version": 3
   },
   "file_extension": ".py",
   "mimetype": "text/x-python",
   "name": "python",
   "nbconvert_exporter": "python",
   "pygments_lexer": "ipython3",
   "version": "3.12.0"
  }
 },
 "nbformat": 4,
 "nbformat_minor": 5
}
