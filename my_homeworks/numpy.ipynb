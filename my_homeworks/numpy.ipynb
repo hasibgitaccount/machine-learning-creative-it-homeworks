{
 "cells": [
  {
   "cell_type": "markdown",
   "id": "95c685ef",
   "metadata": {},
   "source": [
    "1. 1 - dimensional array"
   ]
  },
  {
   "cell_type": "code",
   "execution_count": 1,
   "id": "48d40e89",
   "metadata": {},
   "outputs": [
    {
     "name": "stdout",
     "output_type": "stream",
     "text": [
      "[1 2 3]\n"
     ]
    }
   ],
   "source": [
    "import numpy as np\n",
    "\n",
    "a = np.array([1,2,3])\n",
    "print(a)"
   ]
  },
  {
   "cell_type": "markdown",
   "id": "c5c7776a",
   "metadata": {},
   "source": [
    "2. 2 - dimensional array. "
   ]
  },
  {
   "cell_type": "code",
   "execution_count": 2,
   "id": "6d72455c",
   "metadata": {},
   "outputs": [
    {
     "name": "stdout",
     "output_type": "stream",
     "text": [
      "[[1 2 3]\n",
      " [4 5 6]]\n"
     ]
    }
   ],
   "source": [
    "import numpy as np\n",
    "\n",
    "b = np.array([[1,2,3], [4,5,6]])\n",
    "print(b)"
   ]
  },
  {
   "cell_type": "markdown",
   "id": "852ed312",
   "metadata": {},
   "source": [
    "3. creating rows and columns with zeros."
   ]
  },
  {
   "cell_type": "code",
   "execution_count": 3,
   "id": "61a7932b",
   "metadata": {},
   "outputs": [
    {
     "data": {
      "text/plain": [
       "array([[0., 0., 0., 0.],\n",
       "       [0., 0., 0., 0.],\n",
       "       [0., 0., 0., 0.]])"
      ]
     },
     "execution_count": 3,
     "metadata": {},
     "output_type": "execute_result"
    }
   ],
   "source": [
    "import numpy as np\n",
    "\n",
    "np.zeros((3,4))"
   ]
  },
  {
   "cell_type": "markdown",
   "id": "f6f7c1d1",
   "metadata": {},
   "source": [
    "4. Intervals."
   ]
  },
  {
   "cell_type": "code",
   "execution_count": 4,
   "id": "401d6cc9",
   "metadata": {},
   "outputs": [
    {
     "data": {
      "text/plain": [
       "array([1, 3, 5, 7, 9])"
      ]
     },
     "execution_count": 4,
     "metadata": {},
     "output_type": "execute_result"
    }
   ],
   "source": [
    "import numpy as np\n",
    "\n",
    "np.arange(1,10,2)"
   ]
  },
  {
   "cell_type": "markdown",
   "id": "8cfe5a13",
   "metadata": {},
   "source": [
    "5. certain amount of numbers accordingly."
   ]
  },
  {
   "cell_type": "code",
   "execution_count": 5,
   "id": "14d41c3f",
   "metadata": {},
   "outputs": [
    {
     "data": {
      "text/plain": [
       "array([ 5.        ,  5.55555556,  6.11111111,  6.66666667,  7.22222222,\n",
       "        7.77777778,  8.33333333,  8.88888889,  9.44444444, 10.        ])"
      ]
     },
     "execution_count": 5,
     "metadata": {},
     "output_type": "execute_result"
    }
   ],
   "source": [
    "import numpy as np\n",
    "\n",
    "np.linspace(5,10,10)"
   ]
  },
  {
   "cell_type": "markdown",
   "id": "47ccaded",
   "metadata": {},
   "source": [
    "6. fill a specific number"
   ]
  },
  {
   "cell_type": "code",
   "execution_count": 3,
   "id": "c9110303",
   "metadata": {},
   "outputs": [
    {
     "data": {
      "text/plain": [
       "array([[6, 6, 6],\n",
       "       [6, 6, 6]])"
      ]
     },
     "execution_count": 3,
     "metadata": {},
     "output_type": "execute_result"
    }
   ],
   "source": [
    "import numpy as np\n",
    "np.full((2,3),6)"
   ]
  },
  {
   "cell_type": "markdown",
   "id": "0d80cee7",
   "metadata": {},
   "source": [
    "7. adding random number"
   ]
  },
  {
   "cell_type": "code",
   "execution_count": 5,
   "id": "bb192882",
   "metadata": {},
   "outputs": [
    {
     "data": {
      "text/plain": [
       "array([[0.90304283, 0.76406536, 0.46584468],\n",
       "       [0.81387936, 0.25695411, 0.30308794]])"
      ]
     },
     "execution_count": 5,
     "metadata": {},
     "output_type": "execute_result"
    }
   ],
   "source": [
    "import numpy as np\n",
    "np.random.random((2,3))"
   ]
  },
  {
   "cell_type": "markdown",
   "id": "fc49f79c",
   "metadata": {},
   "source": [
    "8. checking the size"
   ]
  },
  {
   "cell_type": "code",
   "execution_count": 7,
   "id": "f6ddba4c",
   "metadata": {},
   "outputs": [
    {
     "name": "stdout",
     "output_type": "stream",
     "text": [
      "(2, 3)\n"
     ]
    }
   ],
   "source": [
    "import numpy as np\n",
    "a = np.array([[2,3,4], [4,4,6]])\n",
    "print(a.shape)"
   ]
  },
  {
   "cell_type": "markdown",
   "id": "ea710519",
   "metadata": {},
   "source": [
    "9. resize the array"
   ]
  },
  {
   "cell_type": "code",
   "execution_count": 12,
   "id": "9d07a5b6",
   "metadata": {},
   "outputs": [
    {
     "name": "stdout",
     "output_type": "stream",
     "text": [
      "[[2 3]\n",
      " [4 4]\n",
      " [4 6]]\n"
     ]
    }
   ],
   "source": [
    "import numpy as np\n",
    "a = np.array([[2,3,4], [4,4,6]])\n",
    "a.shape = (3,2)\n",
    "print(a)"
   ]
  },
  {
   "cell_type": "markdown",
   "id": "cadff8a9",
   "metadata": {},
   "source": [
    "10. return the dimension of the array"
   ]
  },
  {
   "cell_type": "code",
   "execution_count": 14,
   "id": "84aa6c65",
   "metadata": {},
   "outputs": [
    {
     "name": "stdout",
     "output_type": "stream",
     "text": [
      "[ 0  1  2  3  4  5  6  7  8  9 10 11 12 13 14 15 16 17 18 19 20 21 22 23\n",
      " 24]\n"
     ]
    }
   ],
   "source": [
    "a = np.arange(25)\n",
    "print(a)"
   ]
  },
  {
   "cell_type": "markdown",
   "id": "0dbe888c",
   "metadata": {},
   "source": [
    "11. find the numbers of elements in an array"
   ]
  },
  {
   "cell_type": "code",
   "execution_count": 15,
   "id": "09d87824",
   "metadata": {},
   "outputs": [
    {
     "name": "stdout",
     "output_type": "stream",
     "text": [
      "25\n"
     ]
    }
   ],
   "source": [
    "print(a.size)"
   ]
  },
  {
   "cell_type": "markdown",
   "id": "ef99b5ce",
   "metadata": {},
   "source": [
    "12. find the datatype of the array"
   ]
  },
  {
   "cell_type": "code",
   "execution_count": null,
   "id": "2a150f0e",
   "metadata": {},
   "outputs": [
    {
     "name": "stdout",
     "output_type": "stream",
     "text": [
      "float64\n"
     ]
    }
   ],
   "source": [
    "import numpy as np\n",
    "a = np.arange(24, dtype=float)\n",
    "print(a.dtype)  ???"
   ]
  },
  {
   "cell_type": "markdown",
   "id": "0932c14f",
   "metadata": {},
   "source": [
    "13. mathematics sum"
   ]
  },
  {
   "cell_type": "code",
   "execution_count": null,
   "id": "737d7e6e",
   "metadata": {},
   "outputs": [
    {
     "data": {
      "text/plain": [
       "np.int64(30)"
      ]
     },
     "execution_count": 20,
     "metadata": {},
     "output_type": "execute_result"
    }
   ],
   "source": [
    "import numpy as np\n",
    "np.sum([10, 20]) ????"
   ]
  },
  {
   "cell_type": "code",
   "execution_count": null,
   "id": "47f1d5a9",
   "metadata": {},
   "outputs": [
    {
     "data": {
      "text/plain": [
       "np.int64(30)"
      ]
     },
     "execution_count": 21,
     "metadata": {},
     "output_type": "execute_result"
    }
   ],
   "source": [
    "a,b = 10, 20\n",
    "np.sum([a,b]) ????"
   ]
  },
  {
   "cell_type": "code",
   "execution_count": 23,
   "id": "8458ad61",
   "metadata": {},
   "outputs": [
    {
     "data": {
      "text/plain": [
       "array([6, 8])"
      ]
     },
     "execution_count": 23,
     "metadata": {},
     "output_type": "execute_result"
    }
   ],
   "source": [
    "np.sum([[1,2],[5,6]], axis = 0)"
   ]
  },
  {
   "cell_type": "code",
   "execution_count": 24,
   "id": "3dd0c779",
   "metadata": {},
   "outputs": [
    {
     "data": {
      "text/plain": [
       "array([ 3, 11])"
      ]
     },
     "execution_count": 24,
     "metadata": {},
     "output_type": "execute_result"
    }
   ],
   "source": [
    "np.sum([[1,2],[5,6]], axis = 1)"
   ]
  },
  {
   "cell_type": "code",
   "execution_count": null,
   "id": "990a1681",
   "metadata": {},
   "outputs": [
    {
     "data": {
      "text/plain": [
       "np.int64(14)"
      ]
     },
     "execution_count": 25,
     "metadata": {},
     "output_type": "execute_result"
    }
   ],
   "source": [
    "np.sum([[1,2],[5,6]]) ????"
   ]
  },
  {
   "cell_type": "markdown",
   "id": "65bec4bf",
   "metadata": {},
   "source": [
    "14. substract"
   ]
  },
  {
   "cell_type": "code",
   "execution_count": null,
   "id": "fb6528d4",
   "metadata": {},
   "outputs": [
    {
     "data": {
      "text/plain": [
       "np.int64(-10)"
      ]
     },
     "execution_count": 26,
     "metadata": {},
     "output_type": "execute_result"
    }
   ],
   "source": [
    "np.subtract(10,20) ???"
   ]
  },
  {
   "cell_type": "markdown",
   "id": "fe4e5654",
   "metadata": {},
   "source": [
    "15. multiply"
   ]
  },
  {
   "cell_type": "code",
   "execution_count": null,
   "id": "46b71d4a",
   "metadata": {},
   "outputs": [
    {
     "data": {
      "text/plain": [
       "np.int64(200)"
      ]
     },
     "execution_count": 27,
     "metadata": {},
     "output_type": "execute_result"
    }
   ],
   "source": [
    "np.multiply(10,20) ????"
   ]
  },
  {
   "cell_type": "markdown",
   "id": "4b385b14",
   "metadata": {},
   "source": [
    "16. divide"
   ]
  },
  {
   "cell_type": "code",
   "execution_count": null,
   "id": "bdb8d0a9",
   "metadata": {},
   "outputs": [
    {
     "data": {
      "text/plain": [
       "np.float64(2.0)"
      ]
     },
     "execution_count": 28,
     "metadata": {},
     "output_type": "execute_result"
    }
   ],
   "source": [
    "np.divide(20,10) ????"
   ]
  },
  {
   "cell_type": "markdown",
   "id": "befbfbf4",
   "metadata": {},
   "source": [
    "17. exponent, square root, sin, cos, log"
   ]
  },
  {
   "cell_type": "code",
   "execution_count": 30,
   "id": "0aebe3b6",
   "metadata": {},
   "outputs": [
    {
     "name": "stdout",
     "output_type": "stream",
     "text": [
      "Exponent:  [  7.3890561   54.59815003 403.42879349]\n",
      "Square root :  [1.41421356 2.         2.44948974]\n",
      "Sin :  [ 0.90929743 -0.7568025  -0.2794155 ]\n",
      "Cos :  [-0.41614684 -0.65364362  0.96017029]\n",
      "Log :  [0.69314718 1.38629436 1.79175947]\n"
     ]
    }
   ],
   "source": [
    "a = np.array([2,4,6])\n",
    "b = np.array([1,2,3])\n",
    "print('Exponent: ', np.exp(a))\n",
    "print(\"Square root : \", np.sqrt(a))\n",
    "print(\"Sin : \", np.sin(a))\n",
    "print(\"Cos : \", np.cos(a))\n",
    "print(\"Log : \", np.log(a))"
   ]
  },
  {
   "cell_type": "markdown",
   "id": "72ef169a",
   "metadata": {},
   "source": [
    "18. equal or not equal "
   ]
  },
  {
   "cell_type": "code",
   "execution_count": 34,
   "id": "29064f08",
   "metadata": {},
   "outputs": [
    {
     "data": {
      "text/plain": [
       "array([False, False,  True])"
      ]
     },
     "execution_count": 34,
     "metadata": {},
     "output_type": "execute_result"
    }
   ],
   "source": [
    "a = [1,2,4]\n",
    "b = [2,4,4]\n",
    "c = [1,2,4]\n",
    "np.equal(a,b)\n"
   ]
  },
  {
   "cell_type": "code",
   "execution_count": 33,
   "id": "c50f6b59",
   "metadata": {},
   "outputs": [
    {
     "data": {
      "text/plain": [
       "True"
      ]
     },
     "execution_count": 33,
     "metadata": {},
     "output_type": "execute_result"
    }
   ],
   "source": [
    "a = [1,2,4]\n",
    "b = [2,4,4]\n",
    "c = [1,2,4]\n",
    "np.array_equal(a,c)"
   ]
  },
  {
   "cell_type": "markdown",
   "id": "2da12368",
   "metadata": {},
   "source": [
    "19. aggregate function"
   ]
  },
  {
   "cell_type": "code",
   "execution_count": 36,
   "id": "3ed1e168",
   "metadata": {},
   "outputs": [
    {
     "name": "stdout",
     "output_type": "stream",
     "text": [
      "Sum:  7\n",
      "Minimum Value:  1\n",
      "Mean:  2.3333333333333335\n",
      "Median:  2.0\n",
      "Coorelation Coefficient:  1.0\n",
      "Standard Deviation:  1.247219128924647\n"
     ]
    }
   ],
   "source": [
    "a = [1,2,4]\n",
    "b = [2,4,4]\n",
    "c = [1,2,4]\n",
    "print(\"Sum: \",np.sum(a))\n",
    "print(\"Minimum Value: \",np.min(a))\n",
    "print(\"Mean: \",np.mean(a))\n",
    "print(\"Median: \",np.median(a))\n",
    "print(\"Coorelation Coefficient: \",np.corrcoef(a))\n",
    "print(\"Standard Deviation: \",np.std(a))\n"
   ]
  },
  {
   "cell_type": "markdown",
   "id": "0c4c110d",
   "metadata": {},
   "source": [
    "20. concept of broadcasting"
   ]
  },
  {
   "cell_type": "code",
   "execution_count": 38,
   "id": "7bbf381e",
   "metadata": {},
   "outputs": [
    {
     "name": "stdout",
     "output_type": "stream",
     "text": [
      "First Array: \n",
      " [[0 0 0]\n",
      " [1 2 3]\n",
      " [4 5 6]\n",
      " [5 6 7]] \n",
      "\n",
      "Second Array: \n",
      " [[0 1 2]] \n",
      "\n",
      "First Array + Second Array: \n",
      " [[0 1 2]\n",
      " [1 3 5]\n",
      " [4 6 8]\n",
      " [5 7 9]] \n",
      "\n"
     ]
    }
   ],
   "source": [
    "import numpy as np\n",
    "a = np.array([[0,0,0],[1,2,3],[4,5,6],[5,6,7]])\n",
    "b = np.array([[0,1,2]])\n",
    "print(\"First Array: \\n\",a,'\\n')\n",
    "print(\"Second Array: \\n\",b,'\\n')\n",
    "print(\"First Array + Second Array: \\n\",a+b,'\\n')"
   ]
  },
  {
   "cell_type": "markdown",
   "id": "a471c450",
   "metadata": {},
   "source": [
    "21. indexing and slicing."
   ]
  },
  {
   "cell_type": "code",
   "execution_count": 39,
   "id": "b78f2d28",
   "metadata": {},
   "outputs": [
    {
     "data": {
      "text/plain": [
       "['n', 't', 'y', ' ', 'p', 'y', 't']"
      ]
     },
     "execution_count": 39,
     "metadata": {},
     "output_type": "execute_result"
    }
   ],
   "source": [
    "a = ['m','o','n','t','y',' ','p','y','t','h','o','n']\n",
    "a[2:9]"
   ]
  },
  {
   "cell_type": "markdown",
   "id": "5ff55f7b",
   "metadata": {},
   "source": [
    "22. array manipulation"
   ]
  },
  {
   "cell_type": "code",
   "execution_count": 40,
   "id": "2fd39e53",
   "metadata": {},
   "outputs": [
    {
     "data": {
      "text/plain": [
       "array([1, 2, 3, 4, 5, 6])"
      ]
     },
     "execution_count": 40,
     "metadata": {},
     "output_type": "execute_result"
    }
   ],
   "source": [
    "a = np.array([1,2,3])\n",
    "b= np.array([4,5,6])\n",
    "np.concatenate((a,b))"
   ]
  },
  {
   "cell_type": "code",
   "execution_count": 41,
   "id": "edaf3c90",
   "metadata": {},
   "outputs": [
    {
     "data": {
      "text/plain": [
       "array([[1, 4],\n",
       "       [2, 5],\n",
       "       [3, 6]])"
      ]
     },
     "execution_count": 41,
     "metadata": {},
     "output_type": "execute_result"
    }
   ],
   "source": [
    "np.column_stack((a,b))"
   ]
  },
  {
   "cell_type": "code",
   "execution_count": 7,
   "id": "0ecf7067",
   "metadata": {},
   "outputs": [
    {
     "name": "stdout",
     "output_type": "stream",
     "text": [
      "1\n",
      "[ 0  1  2  3  4  5  6  7  8  9 10 11 12 13 14 15 16 17 18 19 20 21 22 23]\n",
      "[[ 0  1  2  3]\n",
      " [ 4  5  6  7]\n",
      " [ 8  9 10 11]\n",
      " [12 13 14 15]\n",
      " [16 17 18 19]\n",
      " [20 21 22 23]]\n"
     ]
    }
   ],
   "source": [
    "import numpy as np\n",
    "a = np.arange(24)\n",
    "print(a.ndim)\n",
    "print(a)\n",
    "b = a.reshape(6,4)\n",
    "print(b)"
   ]
  }
 ],
 "metadata": {
  "kernelspec": {
   "display_name": "venv",
   "language": "python",
   "name": "python3"
  },
  "language_info": {
   "codemirror_mode": {
    "name": "ipython",
    "version": 3
   },
   "file_extension": ".py",
   "mimetype": "text/x-python",
   "name": "python",
   "nbconvert_exporter": "python",
   "pygments_lexer": "ipython3",
   "version": "3.12.0"
  }
 },
 "nbformat": 4,
 "nbformat_minor": 5
}
